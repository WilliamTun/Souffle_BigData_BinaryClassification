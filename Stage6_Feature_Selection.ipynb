{
 "cells": [
  {
   "cell_type": "code",
   "execution_count": 47,
   "metadata": {
    "collapsed": false
   },
   "outputs": [],
   "source": [
    "import matplotlib.pyplot as plt\n",
    "%matplotlib inline\n",
    "import pandas as pd \n",
    "import numpy as np\n",
    "\n",
    "from sklearn.decomposition import PCA\n",
    "import random \n",
    "import itertools\n",
    "\n",
    "# SVM packages\n",
    "from sklearn.svm import SVC\n",
    "from sklearn.grid_search import GridSearchCV\n",
    "from sklearn import grid_search\n",
    "\n",
    "# Tree methods\n",
    "from sklearn.tree import DecisionTreeClassifier\n",
    "\n",
    "#K nearest neightbout\n",
    "from sklearn.neighbors import KNeighborsClassifier \n",
    "\n",
    "#Traditional approaches\n",
    "from sklearn.linear_model import LogisticRegression\n",
    "from sklearn.naive_bayes import GaussianNB\n",
    "\n",
    "# Ensembl methods: Adaboost & Gradient Boosting & RF\n",
    "from sklearn.ensemble import AdaBoostClassifier, GradientBoostingClassifier, RandomForestClassifier\n",
    "\n",
    "from sklearn import metrics\n",
    "from sklearn.metrics import accuracy_score, confusion_matrix, classification_report, roc_curve, auc\n",
    "from sklearn.cross_validation import train_test_split \n",
    "from sklearn.preprocessing import StandardScaler\n",
    "from sklearn.ensemble import RandomForestClassifier, AdaBoostClassifier\n",
    "\n",
    "from scipy import interp"
   ]
  },
  {
   "cell_type": "code",
   "execution_count": 2,
   "metadata": {
    "collapsed": false
   },
   "outputs": [],
   "source": [
    "Negatives = pd.read_csv('50000_HighQualNeg_IMPUTED.csv', sep=\"\\t\") #index_col=False\n",
    "Positive_cat_dat = pd.read_csv('Stage2_output_datcat.csv', sep=\"\\t\") #index_col=False\n",
    "Positive_num = pd.read_csv('Stage3_num_partially_IMPUTED.csv', sep=\"\\t\") #index_col=False"
   ]
  },
  {
   "cell_type": "code",
   "execution_count": 3,
   "metadata": {
    "collapsed": false
   },
   "outputs": [],
   "source": [
    "# A little preprocessing.\n",
    "new_df = pd.merge(Positive_cat_dat, Positive_num, on=Positive_num.Id)\n",
    "new_df = new_df.drop(['Id_y', 'Response_y'], axis=1)\n",
    "Positives = new_df.rename(columns={'Id_x': 'Id', 'Response_x': 'Response'})\n",
    "#set(Negatives.columns) - set(new_df.columns)\n",
    "Negatives = Negatives.drop(['Id.1', 'Response.1'], axis=1)"
   ]
  },
  {
   "cell_type": "code",
   "execution_count": 4,
   "metadata": {
    "collapsed": false
   },
   "outputs": [],
   "source": [
    "rows = random.sample(Negatives.index, 20000)\n",
    "Negative_s = Negatives.ix[rows]"
   ]
  },
  {
   "cell_type": "code",
   "execution_count": 5,
   "metadata": {
    "collapsed": false
   },
   "outputs": [],
   "source": [
    "# combine positive and negatives\n",
    "frames = [Negative_s, Positives]\n",
    "data = pd.concat(frames)\n"
   ]
  },
  {
   "cell_type": "code",
   "execution_count": 6,
   "metadata": {
    "collapsed": true
   },
   "outputs": [],
   "source": [
    "#Split data into train-test vs hold Out set\n",
    "X = data.drop('Response', 1)         \n",
    "Y = data['Response']        "
   ]
  },
  {
   "cell_type": "code",
   "execution_count": null,
   "metadata": {
    "collapsed": true
   },
   "outputs": [],
   "source": [
    "# create list of numeric features only - no reponse or ID"
   ]
  },
  {
   "cell_type": "code",
   "execution_count": 7,
   "metadata": {
    "collapsed": true
   },
   "outputs": [],
   "source": [
    "num_feats = list(Positive_num.columns)[1:165]"
   ]
  },
  {
   "cell_type": "code",
   "execution_count": 8,
   "metadata": {
    "collapsed": false
   },
   "outputs": [],
   "source": [
    "# Normlize the data \n",
    "for i in range(1,(len(num_feats)-1)):\n",
    "    feat = num_feats[i]\n",
    "    Xx = X[feat]\n",
    "    X[feat]=(X[feat]-X[feat].min())/(X[feat].max()-X[feat].min()) # sklearn scalers do not handle Nans\n"
   ]
  },
  {
   "cell_type": "code",
   "execution_count": 9,
   "metadata": {
    "collapsed": false
   },
   "outputs": [],
   "source": [
    "X_data, X_HODL, y_data, y_HODL = train_test_split(X, Y, test_size= 0.2, random_state = 888)"
   ]
  },
  {
   "cell_type": "markdown",
   "metadata": {},
   "source": [
    "#  Strategy 1. Fill in remaining Nas with zeros"
   ]
  },
  {
   "cell_type": "code",
   "execution_count": 10,
   "metadata": {
    "collapsed": false
   },
   "outputs": [
    {
     "name": "stderr",
     "output_type": "stream",
     "text": [
      "//anaconda/lib/python2.7/site-packages/pandas/core/indexing.py:426: SettingWithCopyWarning: \n",
      "A value is trying to be set on a copy of a slice from a DataFrame.\n",
      "Try using .loc[row_indexer,col_indexer] = value instead\n",
      "\n",
      "See the caveats in the documentation: http://pandas.pydata.org/pandas-docs/stable/indexing.html#indexing-view-versus-copy\n",
      "  self.obj[item] = s\n"
     ]
    }
   ],
   "source": [
    "catdat_cols = list(Positive_cat_dat.columns)\n",
    "catdat_cols = catdat_cols[1:(len(catdat_cols)-1)]\n",
    "X_data.loc[:,catdat_cols]= X_data.loc[:,catdat_cols].replace(\"T1\",1)\n",
    "X_HODL.loc[:,catdat_cols]= X_HODL.loc[:,catdat_cols].replace(\"T1\",1)\n",
    "Xx_zeroFill = X_data.fillna(0)\n",
    "Xh_zeroFill = X_HODL.fillna(0)"
   ]
  },
  {
   "cell_type": "markdown",
   "metadata": {},
   "source": [
    "# Strategy 2. Fill in Nas with zero and do PCA"
   ]
  },
  {
   "cell_type": "code",
   "execution_count": 11,
   "metadata": {
    "collapsed": false
   },
   "outputs": [
    {
     "name": "stdout",
     "output_type": "stream",
     "text": [
      "[ 0.27422423  0.38555302  0.46017957  0.50301588  0.5413331   0.57396498\n",
      "  0.60440323  0.63347587  0.66069297  0.68520672  0.70876641  0.72959939\n",
      "  0.74938799  0.76748124  0.78504989  0.80121574  0.81590675  0.82921089\n",
      "  0.84201928  0.85418203  0.86518904  0.87489104  0.88379297  0.89198894\n",
      "  0.90003664  0.90741044]\n"
     ]
    }
   ],
   "source": [
    "X_numeric = X_data.loc[:,list(Positive_num.columns)[1:165]] # Removes ID column\n",
    "X_numeric = X_numeric.fillna(0)\n",
    "pca = PCA(n_components = None)\n",
    "X_train_pca = pca.fit_transform(X_numeric)\n",
    "#X_numeric2 = X_HODL.loc[:,list(Positive_num.columns)[1:165]] \n",
    "#X_numeric2 = X_numeric2.fillna(0)\n",
    "X_pca = pca.transform(X_numeric)\n",
    "explained_variance = pca.explained_variance_ratio_ #contain percentage of variance explained by each of the extracted principle componenets\n",
    "cumulative_explained_variance = np.cumsum(explained_variance)\n",
    "#print(cumulative_explained_variance)\n",
    "print cumulative_explained_variance[0:26] # 26 PC's can cumulatively explain ~0.9 of variance."
   ]
  },
  {
   "cell_type": "code",
   "execution_count": 12,
   "metadata": {
    "collapsed": false
   },
   "outputs": [],
   "source": [
    "Xx_Top_PCA = pd.DataFrame(X_pca).iloc[:,0:26]"
   ]
  },
  {
   "cell_type": "code",
   "execution_count": 13,
   "metadata": {
    "collapsed": true
   },
   "outputs": [],
   "source": [
    "X_numeric2 = X_HODL.loc[:,list(Positive_num.columns)[1:165]] \n",
    "X_numeric2 = X_numeric2.fillna(0)\n",
    "X2_pca = pca.transform(X_numeric2)"
   ]
  },
  {
   "cell_type": "code",
   "execution_count": 14,
   "metadata": {
    "collapsed": true
   },
   "outputs": [],
   "source": [
    "Xh_Top_PCA = pd.DataFrame(X2_pca).iloc[:,0:26]"
   ]
  },
  {
   "cell_type": "markdown",
   "metadata": {
    "collapsed": false
   },
   "source": [
    "# Strategy 3. Remove Nas .... \n",
    "\n",
    "If more time, explore just effect of numerics/categorical/date rows indepent of counter parts\n",
    "and could remove only Nas in given part.\n",
    "Could also remove rows with Na."
   ]
  },
  {
   "cell_type": "code",
   "execution_count": 15,
   "metadata": {
    "collapsed": false
   },
   "outputs": [],
   "source": [
    "Xx_drop= X_data.dropna(axis='columns') # drop columns with Nas.\n",
    "Xh_drop= X_HODL.dropna(axis='columns') # drop columns with Nas."
   ]
  },
  {
   "cell_type": "code",
   "execution_count": 16,
   "metadata": {
    "collapsed": false
   },
   "outputs": [],
   "source": [
    "col_dif = list(set(Xh_drop.columns) - set(Xx_drop.columns))\n",
    "#set(Xx_drop.columns) - set(Xh_drop.columns)"
   ]
  },
  {
   "cell_type": "code",
   "execution_count": 17,
   "metadata": {
    "collapsed": false
   },
   "outputs": [],
   "source": [
    "Xh_drop = Xh_drop.drop(col_dif, axis=1)"
   ]
  },
  {
   "cell_type": "markdown",
   "metadata": {},
   "source": [
    "# Set up initial classification exploration"
   ]
  },
  {
   "cell_type": "markdown",
   "metadata": {},
   "source": [
    "## Undersample the majority class in the training set"
   ]
  },
  {
   "cell_type": "code",
   "execution_count": 18,
   "metadata": {
    "collapsed": false
   },
   "outputs": [],
   "source": [
    "train_drop = Xx_drop.join(y_data)\n",
    "train_drop = train_drop.drop(\"Id\", axis=1)"
   ]
  },
  {
   "cell_type": "code",
   "execution_count": 19,
   "metadata": {
    "collapsed": true
   },
   "outputs": [],
   "source": [
    "train_zero_fill = Xx_zeroFill.join(y_data)\n",
    "train_zero_fill = train_zero_fill.drop(\"Id\", axis=1)"
   ]
  },
  {
   "cell_type": "code",
   "execution_count": 20,
   "metadata": {
    "collapsed": true
   },
   "outputs": [],
   "source": [
    "train_pca = Xx_Top_PCA.join(y_data)"
   ]
  },
  {
   "cell_type": "markdown",
   "metadata": {},
   "source": [
    "# Preprocessing for Na columns dropped data"
   ]
  },
  {
   "cell_type": "code",
   "execution_count": 21,
   "metadata": {
    "collapsed": false
   },
   "outputs": [],
   "source": [
    "train_drop = train_drop.reset_index()"
   ]
  },
  {
   "cell_type": "code",
   "execution_count": 22,
   "metadata": {
    "collapsed": false
   },
   "outputs": [],
   "source": [
    "train_drop = train_drop.drop(\"index\", axis=1)"
   ]
  },
  {
   "cell_type": "code",
   "execution_count": 23,
   "metadata": {
    "collapsed": false
   },
   "outputs": [],
   "source": [
    "MajorityClass_ind = train_drop.index[train_drop['Response'] == 0].tolist()"
   ]
  },
  {
   "cell_type": "code",
   "execution_count": 24,
   "metadata": {
    "collapsed": true
   },
   "outputs": [],
   "source": [
    "MinorityClass_ind = train_drop.index[train_drop['Response'] == 1].tolist()"
   ]
  },
  {
   "cell_type": "code",
   "execution_count": 25,
   "metadata": {
    "collapsed": false
   },
   "outputs": [
    {
     "data": {
      "text/plain": [
       "1888"
      ]
     },
     "execution_count": 25,
     "metadata": {},
     "output_type": "execute_result"
    }
   ],
   "source": [
    "len(MinorityClass_ind)"
   ]
  },
  {
   "cell_type": "code",
   "execution_count": 26,
   "metadata": {
    "collapsed": false
   },
   "outputs": [],
   "source": [
    "downSampIndexes = random.sample(MajorityClass_ind, 1910)"
   ]
  },
  {
   "cell_type": "code",
   "execution_count": 27,
   "metadata": {
    "collapsed": false
   },
   "outputs": [],
   "source": [
    "trainInd = MinorityClass_ind + downSampIndexes"
   ]
  },
  {
   "cell_type": "code",
   "execution_count": 28,
   "metadata": {
    "collapsed": false
   },
   "outputs": [],
   "source": [
    "trainInd = trainInd[0:3820]"
   ]
  },
  {
   "cell_type": "code",
   "execution_count": 29,
   "metadata": {
    "collapsed": false
   },
   "outputs": [],
   "source": [
    "traindrop_DS = train_drop.iloc[trainInd, :]"
   ]
  },
  {
   "cell_type": "code",
   "execution_count": 30,
   "metadata": {
    "collapsed": true
   },
   "outputs": [],
   "source": [
    "Xs = traindrop_DS.drop('Response', 1)         \n",
    "Ys = traindrop_DS['Response'] "
   ]
  },
  {
   "cell_type": "code",
   "execution_count": 31,
   "metadata": {
    "collapsed": false
   },
   "outputs": [],
   "source": [
    "Xh_drop_test = Xh_drop.drop('Id', 1)"
   ]
  },
  {
   "cell_type": "markdown",
   "metadata": {},
   "source": [
    "# Fit initial models"
   ]
  },
  {
   "cell_type": "code",
   "execution_count": 32,
   "metadata": {
    "collapsed": true
   },
   "outputs": [],
   "source": [
    "mod1 = LogisticRegression()\n",
    "mod2 = GaussianNB()\n",
    "mod3 = SVC(kernel = \"linear\")\n",
    "mod4 = SVC(kernel = \"poly\", degree=2)\n",
    "mod5 = SVC(kernel = \"poly\", degree=3)\n",
    "mod6 = SVC(kernel = \"rbf\")\n",
    "mod7 = DecisionTreeClassifier(criterion= \"gini\")\n",
    "mod8 = DecisionTreeClassifier(criterion= \"entropy\")\n",
    "mod9 = RandomForestClassifier(criterion=\"gini\")\n",
    "mod10 = RandomForestClassifier(criterion=\"entropy\")\n",
    "mod11 = KNeighborsClassifier(n_neighbors = 5)  \n",
    "mod12 = KNeighborsClassifier(n_neighbors = 10)  \n",
    "mod13 = KNeighborsClassifier(n_neighbors = 100)  \n",
    "mod14 = AdaBoostClassifier()\n",
    "mod15 = GradientBoostingClassifier()"
   ]
  },
  {
   "cell_type": "code",
   "execution_count": 33,
   "metadata": {
    "collapsed": false
   },
   "outputs": [],
   "source": [
    "clfL = [mod1, mod2, mod3, mod4, mod5, mod6, mod7, mod8, mod9, mod10, mod11, mod12, mod13, mod14, mod15]"
   ]
  },
  {
   "cell_type": "code",
   "execution_count": 34,
   "metadata": {
    "collapsed": true
   },
   "outputs": [],
   "source": [
    "modName = [\"LogReg\", \"NaiveBay\", \"SVM_linear\", \"SVM_poly2\", \"SVM_poly3\", \"SVM_rbf\", \"DT_gini\", \"DT_ent\", \"RF_gini\", \"RF_ent\", \"KNN_5\", \"KNN_10\", \"KNN_100\", \"Ada\", \"GB\"]"
   ]
  },
  {
   "cell_type": "markdown",
   "metadata": {},
   "source": [
    "# Initial exploration of Na Columns Dropped dataset"
   ]
  },
  {
   "cell_type": "code",
   "execution_count": 35,
   "metadata": {
    "collapsed": false
   },
   "outputs": [],
   "source": [
    "def intial_tester(XtrainIn, ytrainIn, XtestIn, ytestIn):\n",
    "    \n",
    "    for ind in range(0,len(clfL)):\n",
    "        clf =clfL[ind]\n",
    "        moddy = clf.fit(XtrainIn, ytrainIn)\n",
    "        pred_y = moddy.predict(XtestIn)\n",
    "        #print pred_y\n",
    "        acc = accuracy_score(y_true=ytestIn, y_pred=pred_y)\n",
    "        mod_titl = modName[ind]\n",
    "        print(\"%s : %s\" % (mod_titl, acc))\n",
    "    \n"
   ]
  },
  {
   "cell_type": "code",
   "execution_count": 265,
   "metadata": {
    "collapsed": false
   },
   "outputs": [
    {
     "name": "stdout",
     "output_type": "stream",
     "text": [
      "LogReg : 0.894338757736\n",
      "NaiveBay : 0.914737565895\n",
      "SVM_linear : 0.940637176255\n",
      "SVM_poly2 : 0.779738711895\n",
      "SVM_poly3 : 0.925968370387\n",
      "SVM_rbf : 0.920009168004\n",
      "DT_gini : 0.935594774238\n",
      "DT_ent : 0.933531973413\n",
      "RF_gini : 0.927114370846\n",
      "RF_ent : 0.947971579189\n",
      "KNN_5 : 0.868897547559\n",
      "KNN_10 : 0.91267476507\n",
      "KNN_100 : 0.895484758194\n",
      "Ada : 0.949117579647\n",
      "GB : 0.981663992666\n"
     ]
    }
   ],
   "source": [
    "intial_tester(XtrainIn= Xs, ytrainIn=Ys, XtestIn=Xh_drop_test, ytestIn=y_HODL)"
   ]
  },
  {
   "cell_type": "markdown",
   "metadata": {},
   "source": [
    "# Conclusion for Na's dropped data set\n",
    "+ Of all the methods - Ensembl methods produce best acc - Gradient Boosting, Adaboosting and Random forest (entropy)\n",
    "+ of all the standard ML methods - SVM linear + Decesion Tree (entropy)"
   ]
  },
  {
   "cell_type": "code",
   "execution_count": 36,
   "metadata": {
    "collapsed": false
   },
   "outputs": [],
   "source": [
    "def PreprocessData(trainIn):\n",
    "    dataIndexReset = trainIn.reset_index()\n",
    "    dataIndexReset = dataIndexReset.drop(\"index\", axis=1)\n",
    "    MajorityClass_ind = dataIndexReset.index[dataIndexReset['Response'] == 0].tolist()\n",
    "    MinorityClass_ind = dataIndexReset.index[dataIndexReset['Response'] == 1].tolist()\n",
    "    downSampIndexes = random.sample(MajorityClass_ind, 1910)\n",
    "    trainInd = MinorityClass_ind + downSampIndexes\n",
    "    trainInd = trainInd[0:len(trainInd)]\n",
    "    trainer = trainIn.iloc[trainInd, :]\n",
    "    Xout = traindrop_DS.drop('Response', 1)         \n",
    "    Yout = traindrop_DS['Response'] \n",
    "    #Xout = Xout.drop('Id', 1)#\n",
    "    return [Xout, Yout]"
   ]
  },
  {
   "cell_type": "markdown",
   "metadata": {},
   "source": [
    "# Initial Exploration of Nas replaced by zero dataset"
   ]
  },
  {
   "cell_type": "code",
   "execution_count": 40,
   "metadata": {
    "collapsed": true
   },
   "outputs": [],
   "source": [
    "zero_x , zero_y = PreprocessData(train_zero_fill)\n"
   ]
  },
  {
   "cell_type": "code",
   "execution_count": 41,
   "metadata": {
    "collapsed": false
   },
   "outputs": [
    {
     "name": "stdout",
     "output_type": "stream",
     "text": [
      "LogReg : 0.900297960119\n",
      "NaiveBay : 0.920238368095\n",
      "SVM_linear : 0.939720375888\n",
      "SVM_poly2 : 0.785239514096\n",
      "SVM_poly3 : 0.924822369929\n",
      "SVM_rbf : 0.939261975705\n",
      "DT_gini : 0.934677973871\n",
      "DT_ent : 0.920467568187\n",
      "RF_gini : 0.953243181297\n",
      "RF_ent : 0.946596378639\n",
      "KNN_5 : 0.881503552601\n",
      "KNN_10 : 0.925968370387\n",
      "KNN_100 : 0.912445564978\n",
      "Ada : 0.953930781572\n",
      "GB : 0.991290396516\n"
     ]
    }
   ],
   "source": [
    "intial_tester(XtrainIn= zero_x, ytrainIn=zero_y, XtestIn=Xh_drop_test, ytestIn=y_HODL)"
   ]
  },
  {
   "cell_type": "markdown",
   "metadata": {},
   "source": [
    "# Conclusion :\n",
    "+ This is a good sign - even when the Nas are not removed - but simply replaced with zero, the performance does not seem to decrease drastically.\n",
    "+ Although is this simply because the current dataset was taken from the highest quality samples from the original dataset? \n",
    "+ How well will this approach evaluate when poorer quality samples with more Nas are used?"
   ]
  },
  {
   "cell_type": "markdown",
   "metadata": {},
   "source": [
    "# Initial Exploration of Nas replaced by PCA dataset"
   ]
  },
  {
   "cell_type": "code",
   "execution_count": 38,
   "metadata": {
    "collapsed": true
   },
   "outputs": [],
   "source": [
    "pca_x, pca_y = PreprocessData(train_pca)"
   ]
  },
  {
   "cell_type": "code",
   "execution_count": 269,
   "metadata": {
    "collapsed": false
   },
   "outputs": [
    {
     "name": "stdout",
     "output_type": "stream",
     "text": [
      "LogReg : 0.894338757736\n",
      "NaiveBay : 0.914737565895\n",
      "SVM_linear : 0.940637176255\n",
      "SVM_poly2 : 0.779738711895\n",
      "SVM_poly3 : 0.925968370387\n",
      "SVM_rbf : 0.920009168004\n",
      "DT_gini : 0.93719917488\n",
      "DT_ent : 0.930552372221\n",
      "RF_gini : 0.956451982581\n",
      "RF_ent : 0.940407976163\n",
      "KNN_5 : 0.868897547559\n",
      "KNN_10 : 0.91267476507\n",
      "KNN_100 : 0.895484758194\n",
      "Ada : 0.949117579647\n",
      "GB : 0.981893192757\n"
     ]
    }
   ],
   "source": [
    "intial_tester(XtrainIn= pca_x, ytrainIn=pca_y , XtestIn=Xh_drop_test, ytestIn=y_HODL)"
   ]
  },
  {
   "cell_type": "markdown",
   "metadata": {},
   "source": [
    "# Conclusion :\n",
    "+ Once again, PCA does not make a huge difference to results. \n",
    "+ Once again, this maybe because of the bias generated due to using only high quality data...\n",
    "+ Are the accuracy scores true respentative of the models ability to generalize? - We are only testing on high quality data. \n",
    "\n",
    "# Concluding the initial stage of tests:\n",
    "+ All 3 approaches to handling Nas seem to produce similar results\n",
    "+ Ensembl methods are performing very well as expected\n",
    "+ SVM linear + Decision trees are performing well too. "
   ]
  },
  {
   "cell_type": "markdown",
   "metadata": {},
   "source": [
    "# 3 fold- 5 fold-7 fold CROSS VALIDATION "
   ]
  },
  {
   "cell_type": "code",
   "execution_count": 39,
   "metadata": {
    "collapsed": false
   },
   "outputs": [],
   "source": [
    "pca_data = pca_x.join(pca_y) "
   ]
  },
  {
   "cell_type": "code",
   "execution_count": 40,
   "metadata": {
    "collapsed": true
   },
   "outputs": [],
   "source": [
    "X_train_, X_test_, y_train_, y_test_= train_test_split(pca_x, pca_y, test_size= 0.2, random_state = 888)"
   ]
  },
  {
   "cell_type": "code",
   "execution_count": 45,
   "metadata": {
    "collapsed": true
   },
   "outputs": [],
   "source": [
    "def DoDTree(X_trainIn, y_trainIn, X_testIn):\n",
    "    model = DecisionTreeClassifier(criterion= \"gini\")\n",
    "    model.fit(X_trainIn, y_trainIn)\n",
    "    D_y_predictions = model.predict(X_testIn)\n",
    "    return(D_y_predictions)"
   ]
  },
  {
   "cell_type": "code",
   "execution_count": 43,
   "metadata": {
    "collapsed": true
   },
   "outputs": [],
   "source": [
    "def DoGB(X_trainIn, y_trainIn, X_testIn):\n",
    "    model = GradientBoostingClassifier()\n",
    "    model.fit(X_trainIn, y_trainIn)\n",
    "    D_y_predictions = model.predict(X_testIn)\n",
    "    return(D_y_predictions)"
   ]
  },
  {
   "cell_type": "code",
   "execution_count": 48,
   "metadata": {
    "collapsed": true
   },
   "outputs": [],
   "source": [
    "y_pred_ = DoDTree(X_trainIn=X_train_, y_trainIn=y_train_, X_testIn=X_test_)"
   ]
  },
  {
   "cell_type": "code",
   "execution_count": 42,
   "metadata": {
    "collapsed": false
   },
   "outputs": [],
   "source": [
    "# Function to create a confusion matrix\n",
    "def DoConfMat(yTestIn, yPredIn):\n",
    "    Confusion_M1 = confusion_matrix(yTestIn, yPredIn) #.ravel()\n",
    "    tn = Confusion_M1[0][0]\n",
    "    fp = Confusion_M1[0][1]\n",
    "    fn = Confusion_M1[1][0]\n",
    "    tp = Confusion_M1[1][1]\n",
    "    \n",
    "    ALL1 = tn + fp + fn + tp \n",
    "    stat_accuracy1 = float(tp + tn)/ALL1\n",
    "    stat_misclassification_rate1 = float(fp + fn) / ALL1\n",
    "    stat_false_negative1 = float(fn) / (tp + fn) # false negative rate\n",
    "    stat_false_positive1 = float(fp) / (fp + tn) # false positive rate\n",
    "    stat_sensitivity1 = float(tp) / (tp + fn) # false negative rate\n",
    "    stat_specificity1 = float(tn) / (tn + fp)\n",
    "    stat_precision1  = float(tp)/(tp+fp)\n",
    "    \n",
    "    return(stat_accuracy1, stat_misclassification_rate1, stat_sensitivity1, stat_false_positive1, stat_specificity1, stat_false_negative1, stat_precision1)\n",
    "    \n",
    "    "
   ]
  },
  {
   "cell_type": "code",
   "execution_count": 50,
   "metadata": {
    "collapsed": false
   },
   "outputs": [
    {
     "data": {
      "text/plain": [
       "0.80289093298291725"
      ]
     },
     "execution_count": 50,
     "metadata": {},
     "output_type": "execute_result"
    }
   ],
   "source": [
    "accuracy_score(y_true=y_test_, y_pred=y_pred_)"
   ]
  },
  {
   "cell_type": "code",
   "execution_count": 51,
   "metadata": {
    "collapsed": false
   },
   "outputs": [
    {
     "data": {
      "text/plain": [
       "(0.8028909329829172,\n",
       " 0.19710906701708278,\n",
       " 0.7049180327868853,\n",
       " 0.10632911392405063,\n",
       " 0.8936708860759494,\n",
       " 0.29508196721311475,\n",
       " 0.86)"
      ]
     },
     "execution_count": 51,
     "metadata": {},
     "output_type": "execute_result"
    }
   ],
   "source": [
    "DoConfMat(y_test_, y_pred_)"
   ]
  },
  {
   "cell_type": "code",
   "execution_count": 44,
   "metadata": {
    "collapsed": true
   },
   "outputs": [],
   "source": [
    "def cross_validate_roc(mydataIn, num_k_param):\n",
    "    mydataIn = mydataIn.sample(frac=1) # randomly shuffle data, frac parameter define what fraction of data to return - frac= 1  means we return all data shuffled\n",
    "    folds = np.array_split(mydataIn, num_k_param)\n",
    "    num_k = int(len(folds)) \n",
    "    \n",
    "    mean_true_positive_rate = 0\n",
    "    mean_false_positive_rate = np.linspace(0, 1, 100)\n",
    "    all_true_positive_rate = []\n",
    "    \n",
    "\n",
    "    CV_accuracy = []\n",
    "    CV_misclassification = []\n",
    "    CV_sensitivity = []\n",
    "    CV_false_positive = []\n",
    "    CV_specificity = []\n",
    "    CV_false_negative = []\n",
    "    CV_precision = []\n",
    "    \n",
    "    # K fold cross validation\n",
    "    for i in range(0,num_k):\n",
    "        Ktest = folds[i]\n",
    "        Ktrain = []\n",
    "        for j in xrange(len(folds)):\n",
    "            if j != i:\n",
    "                Ktrain.append(folds[j])  \n",
    "        Ktrain = pd.concat(Ktrain)\n",
    "        \n",
    "        KX_train = Ktrain.drop('Response', 1)         \n",
    "        KX_test = Ktest.drop('Response',1)              \n",
    "        Ky_train = Ktrain['Response'] \n",
    "        Ky_test = Ktest['Response'] \n",
    "    \n",
    "        #outty = DoDTree(X_trainIn=KX_train, y_trainIn=Ky_train, X_testIn=KX_test)\n",
    "        outty = DoGB(X_trainIn=KX_train, y_trainIn=Ky_train, X_testIn=KX_test)\n",
    "        Ky_predictions = outty\n",
    "    \n",
    "        false_positive_rate, true_positive_rate, thresholds = metrics.roc_curve(Ky_test, Ky_predictions)  # added thresholds without TEST!!!!! - will it mess up program?!?!?!?\n",
    "        roc_auc = metrics.auc(false_positive_rate,true_positive_rate)\n",
    "    \n",
    "        Kclassification_stats = DoConfMat(Ky_test, Ky_predictions)\n",
    "        CV_accuracy.append(Kclassification_stats[0])\n",
    "        CV_misclassification.append(Kclassification_stats[1])\n",
    "        CV_sensitivity.append(Kclassification_stats[2])\n",
    "        CV_false_positive.append(Kclassification_stats[3])\n",
    "        CV_specificity.append(Kclassification_stats[4])\n",
    "        CV_false_negative.append(Kclassification_stats[5])\n",
    "        CV_precision.append(Kclassification_stats[6])\n",
    "        \n",
    "        mean_true_positive_rate += interp(mean_false_positive_rate, false_positive_rate, true_positive_rate)\n",
    "        mean_true_positive_rate[0] = 0\n",
    "    \n",
    "    #calculate mean AUC\n",
    "    mean_true_positive_rate /= num_k\n",
    "    mean_true_positive_rate[-1] = 1\n",
    "    mean_auc = auc(mean_false_positive_rate, mean_true_positive_rate)\n",
    "    \n",
    "\n",
    "    stat_accuracy2 = sum(CV_accuracy)/len(CV_accuracy)\n",
    "    stat_misclassification_rate2 = sum(CV_misclassification)/len(CV_misclassification) \n",
    "    stat_sensitivity2 = sum(CV_sensitivity)/len(CV_sensitivity)\t\n",
    "    stat_false_positive2 = sum(CV_false_positive)/len(CV_false_positive) \n",
    "    stat_specificity2 = sum(CV_specificity)/len(CV_specificity) \n",
    "    stat_false_negative2 = sum(CV_false_negative)/len(CV_false_negative) \n",
    "    stat_precision2 = sum(CV_precision)/len(CV_precision)\n",
    "    \n",
    "    #print(\"AUC: \", mean_auc)\n",
    "    #print(\"K fold mean Accuracy: \", stat_accuracy2)\n",
    "    #print(\"K fold mean Misclassification rate: \", stat_misclassification_rate2)\n",
    "    #print(\"K fold Sensitivity (True Positives): \", stat_sensitivity2)\n",
    "    #print(\"K fold False Positive:\", stat_false_positive2)\n",
    "    #print(\"K fold Specificity (True Negatives): \", stat_specificity2)\n",
    "    #print(\"K fold False Negatives: \", stat_false_negative2)\n",
    "    #print(\"K fold Precision: :\", stat_precision2)\n",
    "    \n",
    "    return [mean_auc, stat_accuracy2, stat_misclassification_rate2, stat_sensitivity2, stat_false_positive2, stat_specificity2, stat_false_positive2, stat_specificity2,stat_false_negative2, stat_precision2]\n"
   ]
  },
  {
   "cell_type": "code",
   "execution_count": 48,
   "metadata": {
    "collapsed": false
   },
   "outputs": [
    {
     "data": {
      "text/plain": [
       "[0.85384928478101296,\n",
       " 0.8541337546076883,\n",
       " 0.14586624539231174,\n",
       " 0.7643852880658436,\n",
       " 0.05645622048115922,\n",
       " 0.9435437795188407,\n",
       " 0.05645622048115922,\n",
       " 0.9435437795188407,\n",
       " 0.23561471193415637,\n",
       " 0.9303024995938921]"
      ]
     },
     "execution_count": 48,
     "metadata": {},
     "output_type": "execute_result"
    }
   ],
   "source": [
    " cross_validate_roc(mydataIn=pca_data, num_k_param=3)"
   ]
  },
  {
   "cell_type": "code",
   "execution_count": 49,
   "metadata": {
    "collapsed": false
   },
   "outputs": [
    {
     "data": {
      "text/plain": [
       "[0.85860369902851053,\n",
       " 0.8588755980861243,\n",
       " 0.1411244019138756,\n",
       " 0.7609416657843049,\n",
       " 0.0435332462805004,\n",
       " 0.9564667537194996,\n",
       " 0.0435332462805004,\n",
       " 0.9564667537194996,\n",
       " 0.23905833421569503,\n",
       " 0.9445243287839892]"
      ]
     },
     "execution_count": 49,
     "metadata": {},
     "output_type": "execute_result"
    }
   ],
   "source": [
    " cross_validate_roc(mydataIn=pca_data, num_k_param=5)"
   ]
  },
  {
   "cell_type": "code",
   "execution_count": 50,
   "metadata": {
    "collapsed": false
   },
   "outputs": [
    {
     "data": {
      "text/plain": [
       "[0.85819090385434071,\n",
       " 0.8580685214902662,\n",
       " 0.1419314785097338,\n",
       " 0.765205537871182,\n",
       " 0.04861879941953735,\n",
       " 0.9513812005804627,\n",
       " 0.04861879941953735,\n",
       " 0.9513812005804627,\n",
       " 0.23479446212881813,\n",
       " 0.9393350386197266]"
      ]
     },
     "execution_count": 50,
     "metadata": {},
     "output_type": "execute_result"
    }
   ],
   "source": [
    " cross_validate_roc(mydataIn=pca_data, num_k_param=7)"
   ]
  },
  {
   "cell_type": "code",
   "execution_count": 175,
   "metadata": {
    "collapsed": false
   },
   "outputs": [
    {
     "name": "stdout",
     "output_type": "stream",
     "text": [
      "('K fold mean Accuracy: ', 0.7842878850669982)\n",
      "('K fold mean Misclassification rate: ', 0.21571211493300177)\n",
      "('K fold Sensitivity (True Positives): ', 0.6989173465347752)\n",
      "('K fold False Positive:', 0.13239471165052796)\n",
      "('K fold Specificity (True Negatives): ', 0.8676052883494721)\n",
      "('K fold False Negatives: ', 0.3010826534652248)\n",
      "('K fold Precision: :', 0.8412463845070883)\n"
     ]
    }
   ],
   "source": [
    " cross_validate_roc(mydataIn=pca_data, num_k_param=10)"
   ]
  },
  {
   "cell_type": "code",
   "execution_count": 185,
   "metadata": {
    "collapsed": false
   },
   "outputs": [
    {
     "name": "stdout",
     "output_type": "stream",
     "text": [
      "('AUC: ', 0.78246082765536951)\n",
      "('K fold mean Accuracy: ', 0.7829792109319668)\n",
      "('K fold mean Misclassification rate: ', 0.2170207890680331)\n",
      "('K fold Sensitivity (True Positives): ', 0.6930445751898611)\n",
      "('K fold False Positive:', 0.1280261616462378)\n",
      "('K fold Specificity (True Negatives): ', 0.8719738383537622)\n",
      "('K fold False Negatives: ', 0.3069554248101387)\n",
      "('K fold Precision: :', 0.8414457922782581)\n"
     ]
    }
   ],
   "source": [
    "cross_validate_roc(mydataIn=pca_data, num_k_param=30)"
   ]
  },
  {
   "cell_type": "markdown",
   "metadata": {},
   "source": [
    "# Feature Selection with Genetic Algorithm"
   ]
  },
  {
   "cell_type": "code",
   "execution_count": null,
   "metadata": {
    "collapsed": true
   },
   "outputs": [],
   "source": [
    "## Initialize the population\n",
    "### This function should be run once to begin the genetic algorithm\n",
    "### parameters: \n",
    "### 1. DataIn - the whole dataset including all Y and X values\n",
    "### 2. No.individuals - the number of times a set of features are created\n",
    "### 3. No.matings - number of top features chosen for next step.\n",
    "###    condition:  No.individuals > No.matings\n",
    "###    condition: No.matings should be an even number"
   ]
  },
  {
   "cell_type": "code",
   "execution_count": 72,
   "metadata": {
    "collapsed": true
   },
   "outputs": [],
   "source": [
    "def InitializeIt(XIn, YIn, Num_creations):\n",
    "    local_col_index = []\n",
    "    local_acc = []\n",
    "    for i in range(0, Num_creations):\n",
    "        num_indexes_to_sample = random.sample(list(range(30,80)), 1)\n",
    "        columns_index_sample = random.sample(list(range(0, len(XIn.columns))), num_indexes_to_sample[0])\n",
    "        XIn_samp = XIn.iloc[:,columns_index_sample]\n",
    "        Xy_In = pd.concat([XIn_samp,YIn], axis = 1)\n",
    "        acc_score = cross_validate_roc(mydataIn=Xy_In, num_k_param=3)\n",
    "        local_acc.append(acc_score[1])\n",
    "        local_col_index.append(columns_index_sample)\n",
    "        \n",
    "    sorted_acc, sorted_col_index = zip(*sorted(zip(local_acc, local_col_index)))\n",
    "    #print sorted_acc[-21:-1]\n",
    "    #print sorted_col_index[-21:-1] # top 10\n",
    "    return sorted_col_index[-21:-1]\n",
    "    "
   ]
  },
  {
   "cell_type": "code",
   "execution_count": 77,
   "metadata": {
    "collapsed": false
   },
   "outputs": [],
   "source": [
    "test_GA_1 = InitializeIt(XIn=zero_x, YIn=zero_y, Num_creations=30)"
   ]
  },
  {
   "cell_type": "code",
   "execution_count": 83,
   "metadata": {
    "collapsed": false
   },
   "outputs": [],
   "source": [
    "#### CROSS OVER \n",
    "\n",
    "### cross_over_rate - smaller the number, the more will be subsetted out of features + more diversification\n",
    "def Cross(Indexes1In, Indexes2In, cross_over_rate):\n",
    "    sample_to_cross_index = round(len(Indexes1In)/cross_over_rate)\n",
    "    samp_to_cross1 = np.random.choice(Indexes1In, int(sample_to_cross_index), replace=False)\n",
    "    samp_to_cross2 = np.random.choice(Indexes2In, int(sample_to_cross_index), replace=False)\n",
    "    samp_to_keep1 = np.setdiff1d(Indexes1In, samp_to_cross1)\n",
    "    samp_to_keep2 = np.setdiff1d(Indexes2In, samp_to_cross2)\n",
    "    child1 = samp_to_cross1.tolist() + samp_to_keep2.tolist()\n",
    "    child2 = samp_to_cross2.tolist() + samp_to_keep1.tolist()\n",
    "    return (child1,child2)\n",
    "    \n"
   ]
  },
  {
   "cell_type": "code",
   "execution_count": null,
   "metadata": {
    "collapsed": true
   },
   "outputs": [],
   "source": [
    "cross_out = Cross(Indexes1In=test_GA_1[1], Indexes2In=test_GA_1[5], cross_over_rate=3) # cross over 1/3 of samps"
   ]
  },
  {
   "cell_type": "code",
   "execution_count": 84,
   "metadata": {
    "collapsed": false
   },
   "outputs": [],
   "source": [
    "def Mutate(IndexesIn, no_elements_to_mutate, OriginalXFeatures):\n",
    "\n",
    "    no_elements_to_keep = len(IndexesIn) - no_elements_to_mutate\n",
    "    Natives = random.sample(IndexesIn, no_elements_to_keep) # keepers\n",
    "    Feats = range(0, len(OriginalXFeatures.columns)-1) \n",
    "    mutant_pool = np.setdiff1d(Feats,Natives)  # Sample from only non-native features\n",
    "    Mutants= random.sample(mutant_pool, no_elements_to_mutate) # sample from non-native fetures\n",
    "    mutated_output = Natives + Mutants\n",
    "    \n",
    "    return mutated_output\n",
    "    \n"
   ]
  },
  {
   "cell_type": "code",
   "execution_count": null,
   "metadata": {
    "collapsed": true
   },
   "outputs": [],
   "source": [
    "mut_out = Mutate(cross_out[0], no_elements_to_mutate=4, OriginalXFeatures=zero_x)"
   ]
  },
  {
   "cell_type": "code",
   "execution_count": 85,
   "metadata": {
    "collapsed": false
   },
   "outputs": [],
   "source": [
    "def Breeding(breedersIn, no_elements_to_mutate,OriginalXFeatures, cross_over_rate):\n",
    "    NextGeneration = []\n",
    "    #print breedersIn\n",
    "    random.shuffle(breedersIn)\n",
    "    for i in range(0, len(breedersIn), 2):\n",
    "        breeder1 = breedersIn[i]\n",
    "        breeder2 = breedersIn[i+1]\n",
    "        cross_out = Cross(Indexes1In=breeder1, Indexes2In=breeder2, cross_over_rate=cross_over_rate) # cross over 1/3 of samps\n",
    "        child1 = Mutate(cross_out[0], no_elements_to_mutate=4, OriginalXFeatures=OriginalXFeatures)\n",
    "        child2 = Mutate(cross_out[1], no_elements_to_mutate=4, OriginalXFeatures=OriginalXFeatures)\n",
    "        NextGeneration.append(child1)\n",
    "        NextGeneration.append(child2)\n",
    "    return NextGeneration"
   ]
  },
  {
   "cell_type": "code",
   "execution_count": null,
   "metadata": {
    "collapsed": true
   },
   "outputs": [],
   "source": [
    "NextGen= Breeding(breedersIn=list(test_GA_1), no_elements_to_mutate=3, OriginalXFeatures=zero_x, cross_over_rate=3)\n"
   ]
  },
  {
   "cell_type": "code",
   "execution_count": 86,
   "metadata": {
    "collapsed": true
   },
   "outputs": [],
   "source": [
    "def OneGeneration_LifeCycle(generationIn, XIn, yIn):\n",
    "    acc_collect = []\n",
    "    features_collect = []\n",
    "    for i in range(0, len(generationIn)):\n",
    "        XIn_samp = XIn.iloc[:,generationIn[i]]\n",
    "        Xy_In = pd.concat([XIn_samp,yIn], axis = 1).dropna(how=\"any\")\n",
    "        \n",
    "        acc_score = cross_validate_roc(mydataIn=Xy_In, num_k_param=3)\n",
    "        acc_collect.append(acc_score[1])\n",
    "        features_collect.append(generationIn[i])\n",
    "    \n",
    "    sorted_acc, sorted_col_index = zip(*sorted(zip(acc_collect, features_collect)))\n",
    "    \n",
    "    top_acc = list(reversed(sorted_acc))[0:10]\n",
    "    top_indexes = list(reversed(sorted_col_index))[0:10] # top 10\n",
    "    return [top_acc, top_indexes]"
   ]
  },
  {
   "cell_type": "code",
   "execution_count": 265,
   "metadata": {
    "collapsed": true
   },
   "outputs": [],
   "source": [
    "one_gen_out = OneGeneration_LifeCycle(generationIn=NextGen, XIn=zero_x, yIn=zero_y)"
   ]
  },
  {
   "cell_type": "code",
   "execution_count": 87,
   "metadata": {
    "collapsed": true
   },
   "outputs": [],
   "source": [
    "def flatten(l): return flatten(l[0]) + (flatten(l[1:]) if len(l) > 1 else []) if type(l) is list else [l]\n"
   ]
  },
  {
   "cell_type": "code",
   "execution_count": 88,
   "metadata": {
    "collapsed": false
   },
   "outputs": [],
   "source": [
    "def GeneticAlgo(dataIn, breedersIn, TotalCycles, mutation_rate, cross_over_rate):\n",
    "    Best_features_ever = []\n",
    "    Best_accuracy_ever = 0\n",
    "    \n",
    "    First_Input = breedersIn \n",
    "    Accuracy_across_time = []\n",
    "    Best_acc_across_time = []\n",
    "    for i in range(0, TotalCycles):\n",
    "        Xx = dataIn.iloc[:,:-1]\n",
    "        Yy = dataIn.iloc[:,-1]\n",
    "        one_gen_out = OneGeneration_LifeCycle(generationIn=First_Input, XIn=Xx, yIn=Yy)\n",
    "        gen_accs= one_gen_out[0]\n",
    "        gen_acc_best= gen_accs[0]\n",
    "        gen_feat = one_gen_out[1]\n",
    "        Accuracy_across_time.append(gen_acc_best)\n",
    "        \n",
    "        if Best_accuracy_ever < gen_acc_best:\n",
    "            Best_accuracy_ever = gen_acc_best\n",
    "            Best_features_ever = gen_feat[0]\n",
    "        \n",
    "        Best_acc_across_time.append(Best_accuracy_ever)\n",
    "        \n",
    "        # dynamically change mutation and cross over rate depending on homogeneity\n",
    "        flat_pop = flatten(one_gen_out)\n",
    "        homog = float(len(set(flat_pop)))/float(len(flat_pop)) # 1 = many individuals, ~0 = many duplicates\n",
    "        \n",
    "        if homog > 0.9:\n",
    "            mutation_rate = 4\n",
    "            cross_over_rate = 4\n",
    "        elif homog > 0.75:\n",
    "            mutation_rate = 12\n",
    "            cross_over_rate = 7\n",
    "        elif homog > 0.5:\n",
    "            mutation_rate = 15\n",
    "            cross_over_rate = 10\n",
    "        elif homog > 0.25:\n",
    "            mutation_rate = 20\n",
    "            cross_over_rate = 12\n",
    "        elif homog > 0.1:\n",
    "            mutation_rate = 25\n",
    "            cross_over_rate = 15\n",
    "        else:\n",
    "            mutation_rate = 28\n",
    "            cross_over_rate = 25\n",
    "            \n",
    "        NextGen= Breeding(breedersIn=list(gen_feat), no_elements_to_mutate=mutation_rate, OriginalXFeatures=Xx, cross_over_rate=cross_over_rate)\n",
    "        First_Input = tuple(NextGen)\n",
    "    \n",
    "    return [Best_features_ever, Best_accuracy_ever, Accuracy_across_time, Best_acc_across_time]\n",
    " \n"
   ]
  },
  {
   "cell_type": "code",
   "execution_count": 89,
   "metadata": {
    "collapsed": false
   },
   "outputs": [],
   "source": [
    "GeneticOutput = GeneticAlgo(dataIn=train_zero_fill, breedersIn= test_GA_1, TotalCycles=50, mutation_rate=4, cross_over_rate=4)"
   ]
  },
  {
   "cell_type": "code",
   "execution_count": 92,
   "metadata": {
    "collapsed": false
   },
   "outputs": [],
   "source": [
    "chosen_feats = GeneticOutput[0]"
   ]
  },
  {
   "cell_type": "code",
   "execution_count": 97,
   "metadata": {
    "collapsed": true
   },
   "outputs": [],
   "source": [
    "chosen_feats.append(344)"
   ]
  },
  {
   "cell_type": "code",
   "execution_count": 99,
   "metadata": {
    "collapsed": false
   },
   "outputs": [],
   "source": [
    "FeatSelectedZeroFills = train_zero_fill.iloc[:, chosen_feats]"
   ]
  },
  {
   "cell_type": "code",
   "execution_count": 103,
   "metadata": {
    "collapsed": true
   },
   "outputs": [],
   "source": [
    "train_zero_fill.to_csv(\"featSelected_zeroFill_data\", sep=\"\\t\")"
   ]
  },
  {
   "cell_type": "code",
   "execution_count": 101,
   "metadata": {
    "collapsed": false
   },
   "outputs": [],
   "source": [
    "improve = GeneticOutput[3]"
   ]
  },
  {
   "cell_type": "code",
   "execution_count": 124,
   "metadata": {
    "collapsed": true
   },
   "outputs": [],
   "source": [
    "import matplotlib.pylab as pylab\n",
    "pylab.rcParams['figure.figsize'] = 10, 5"
   ]
  },
  {
   "cell_type": "code",
   "execution_count": 126,
   "metadata": {
    "collapsed": false
   },
   "outputs": [
    {
     "data": {
      "text/plain": [
       "<matplotlib.text.Text at 0x13d956d10>"
      ]
     },
     "execution_count": 126,
     "metadata": {},
     "output_type": "execute_result"
    },
    {
     "data": {
      "image/png": "[encoded data removed]",
      "text/plain": [
       "<matplotlib.figure.Figure at 0x13d80d390>"
      ]
     },
     "metadata": {},
     "output_type": "display_data"
    }
   ],
   "source": [
    "plt.plot(improve)\n",
    "plt.ylabel('Accuracy')\n",
    "plt.xlabel('GA Iterations')\n",
    "plt.title(\"Genetic Algorithm\")"
   ]
  },
  {
   "cell_type": "code",
   "execution_count": null,
   "metadata": {
    "collapsed": true
   },
   "outputs": [],
   "source": [
    " #.join(y_HODL)"
   ]
  },
  {
   "cell_type": "code",
   "execution_count": 128,
   "metadata": {
    "collapsed": true
   },
   "outputs": [],
   "source": [
    "heldX = Xh_zeroFill.iloc[:, chosen_feats]"
   ]
  },
  {
   "cell_type": "code",
   "execution_count": 129,
   "metadata": {
    "collapsed": true
   },
   "outputs": [],
   "source": [
    "HODL_out = heldX.join(y_HODL)"
   ]
  },
  {
   "cell_type": "code",
   "execution_count": 130,
   "metadata": {
    "collapsed": true
   },
   "outputs": [],
   "source": [
    "HODL_out.to_csv(\"featSelected_zeroFill_HODL\", sep=\"\\t\")"
   ]
  }
 ],
 "metadata": {
  "kernelspec": {
   "display_name": "Python 2",
   "language": "python",
   "name": "python2"
  },
  "language_info": {
   "codemirror_mode": {
    "name": "ipython",
    "version": 2
   },
   "file_extension": ".py",
   "mimetype": "text/x-python",
   "name": "python",
   "nbconvert_exporter": "python",
   "pygments_lexer": "ipython2",
   "version": "2.7.13"
  }
 },
 "nbformat": 4,
 "nbformat_minor": 0
}
