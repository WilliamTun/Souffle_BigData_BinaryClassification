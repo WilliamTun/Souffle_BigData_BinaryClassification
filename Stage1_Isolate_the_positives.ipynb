{
 "cells": [
  {
   "cell_type": "markdown",
   "metadata": {},
   "source": [
    "# Problem 2: Sparsity and imbalanced labels\n",
    "## Solution 1: Isolate high quality data columns from positive class"
   ]
  },
  {
   "cell_type": "code",
   "execution_count": null,
   "metadata": {
    "collapsed": true
   },
   "outputs": [],
   "source": [
    "import pandas as pd"
   ]
  },
  {
   "cell_type": "code",
   "execution_count": null,
   "metadata": {
    "collapsed": false
   },
   "outputs": [],
   "source": [
    "# Currently load time is long due to large file size.\n",
    "num_xabc = pd.read_table(\"num_xabc\", sep=',')\n",
    "cat_xabc = pd.read_table(\"cat_xabc\", sep=',')\n",
    "dat_xabc = pd.read_table(\"dat_xabc\", sep=',')"
   ]
  },
  {
   "cell_type": "code",
   "execution_count": null,
   "metadata": {
    "collapsed": true
   },
   "outputs": [],
   "source": [
    "colNames_num = list(num_xabc.columns.values)\n",
    "colNames_cat = list(cat_xabc.columns.values)\n",
    "colNames_dat = list(dat_xabc.columns.values)"
   ]
  },
  {
   "cell_type": "code",
   "execution_count": null,
   "metadata": {
    "collapsed": false
   },
   "outputs": [],
   "source": [
    "# Returns dataframe with only positive class\n",
    "def IsolatePositives(catIn, datIn, numIn):\n",
    "    response_col = numIn.Response\n",
    "    catIn['Response'] = response_col\n",
    "    datIn['Response'] = response_col\n",
    "    numIn_pos = numIn[numIn.Response == 1]\n",
    "    catIn_pos = catIn[catIn.Response == 1]\n",
    "    datIn_pos = datIn[datIn.Response == 1]\n",
    "    return [numIn_pos, catIn_pos, datIn_pos]\n"
   ]
  },
  {
   "cell_type": "code",
   "execution_count": null,
   "metadata": {
    "collapsed": true
   },
   "outputs": [],
   "source": [
    "num_abc_pos, cat_abc_pos, dat_abc_pos = IsolatePositives(catIn=cat_xabc, datIn=dat_xabc, numIn=num_xabc)\n",
    "\n",
    "# save memory\n",
    "del num_xabc  \n",
    "del cat_xabc\n",
    "del dat_xabc"
   ]
  },
  {
   "cell_type": "markdown",
   "metadata": {},
   "source": [
    "# Repeat above commands for all the datasets from def --> vwxyz"
   ]
  },
  {
   "cell_type": "code",
   "execution_count": null,
   "metadata": {
    "collapsed": true
   },
   "outputs": [],
   "source": [
    "# Other datasets require concatenation of header from abc dataset\n",
    "def Col_Rename(numIn, catIn, datIn):\n",
    "    numIn.columns = colNames_num\n",
    "    catIn.columns = colNames_cat\n",
    "    datIn.columns = colNames_dat\n",
    "    return [numIn, catIn, datIn]"
   ]
  },
  {
   "cell_type": "code",
   "execution_count": null,
   "metadata": {
    "collapsed": false
   },
   "outputs": [],
   "source": [
    "num = pd.read_table(\"num_xdef\", sep=',')\n",
    "cat = pd.read_table(\"cat_xdef\", sep=',')\n",
    "dat = pd.read_table(\"dat_xdef\", sep=',')\n",
    "\n",
    "num.columns = colNames_num\n",
    "cat.columns = colNames_cat\n",
    "dat.columns = colNames_dat\n",
    "\n",
    "num_def_pos, cat_def_pos, dat_def_pos = IsolatePositives(catIn=cat, datIn=dat, numIn=num)\n",
    "del num\n",
    "del cat\n",
    "del dat\n"
   ]
  },
  {
   "cell_type": "code",
   "execution_count": null,
   "metadata": {
    "collapsed": false
   },
   "outputs": [],
   "source": [
    "num = pd.read_table(\"num_xghi\", sep=',')\n",
    "cat = pd.read_table(\"cat_xghi\", sep=',')\n",
    "dat = pd.read_table(\"dat_xghi\", sep=',')\n",
    "\n",
    "num, cat, dat = Col_Rename(numIn=num, catIn=cat, datIn=dat)\n",
    "\n",
    "num_ghi_pos, cat_ghi_pos, dat_ghi_pos = IsolatePositives(catIn=cat, datIn=dat, numIn=num)\n",
    "del num\n",
    "del cat\n",
    "del dat"
   ]
  },
  {
   "cell_type": "code",
   "execution_count": null,
   "metadata": {
    "collapsed": false
   },
   "outputs": [],
   "source": [
    "num = pd.read_table(\"num_xjkl\", sep=',')\n",
    "cat = pd.read_table(\"cat_xjkl\", sep=',')\n",
    "dat = pd.read_table(\"dat_xjkl\", sep=',')\n",
    "\n",
    "num, cat, dat = Col_Rename(numIn=num, catIn=cat, datIn=dat)\n",
    "\n",
    "num_jkl_pos, cat_jkl_pos, dat_jkl_pos = IsolatePositives(catIn=cat, datIn=dat, numIn=num)\n",
    "del num\n",
    "del cat\n",
    "del dat"
   ]
  },
  {
   "cell_type": "code",
   "execution_count": null,
   "metadata": {
    "collapsed": false
   },
   "outputs": [],
   "source": [
    "num = pd.read_table(\"num_xmno\", sep=',')\n",
    "cat = pd.read_table(\"cat_xmno\", sep=',')\n",
    "dat = pd.read_table(\"dat_xmno\", sep=',')\n",
    "\n",
    "num, cat, dat = Col_Rename(numIn=num, catIn=cat, datIn=dat)\n",
    "\n",
    "num_mno_pos, cat_mno_pos, dat_mno_pos = IsolatePositives(catIn=cat, datIn=dat, numIn=num)\n",
    "del num\n",
    "del cat\n",
    "del dat"
   ]
  },
  {
   "cell_type": "code",
   "execution_count": null,
   "metadata": {
    "collapsed": false
   },
   "outputs": [],
   "source": [
    "num = pd.read_table(\"num_xpqr\", sep=',')\n",
    "cat = pd.read_table(\"cat_xpqr\", sep=',')\n",
    "dat = pd.read_table(\"dat_xpqr\", sep=',')\n",
    "\n",
    "num, cat, dat = Col_Rename(numIn=num, catIn=cat, datIn=dat)\n",
    "\n",
    "num_pqr_pos, cat_pqr_pos, dat_pqr_pos = IsolatePositives(catIn=cat, datIn=dat, numIn=num)\n",
    "del num\n",
    "del cat\n",
    "del dat"
   ]
  },
  {
   "cell_type": "code",
   "execution_count": null,
   "metadata": {
    "collapsed": false
   },
   "outputs": [],
   "source": [
    "num = pd.read_table(\"num_xstu\", sep=',')\n",
    "cat = pd.read_table(\"cat_xstu\", sep=',')\n",
    "dat = pd.read_table(\"dat_xstu\", sep=',')\n",
    "\n",
    "num, cat, dat = Col_Rename(numIn=num, catIn=cat, datIn=dat)\n",
    "\n",
    "num_stu_pos, cat_stu_pos, dat_stu_pos = IsolatePositives(catIn=cat, datIn=dat, numIn=num)\n",
    "del num\n",
    "del cat\n",
    "del dat"
   ]
  },
  {
   "cell_type": "code",
   "execution_count": null,
   "metadata": {
    "collapsed": false
   },
   "outputs": [],
   "source": [
    "num = pd.read_table(\"num_xvwxyz\", sep=',')\n",
    "cat = pd.read_table(\"cat_xvwxyz\", sep=',')\n",
    "dat = pd.read_table(\"dat_xvwxyz\", sep=',')\n",
    "\n",
    "num, cat, dat = Col_Rename(numIn=num, catIn=cat, datIn=dat)\n",
    "\n",
    "num_vwxyz_pos, cat_vwxyz_pos, dat_vwxyz_pos = IsolatePositives(catIn=cat, datIn=dat, numIn=num)\n",
    "del num\n",
    "del cat\n",
    "del dat"
   ]
  },
  {
   "cell_type": "markdown",
   "metadata": {
    "collapsed": true
   },
   "source": [
    "# Create files containing all the positive samples from Numerical, Categorical and Date data"
   ]
  },
  {
   "cell_type": "code",
   "execution_count": null,
   "metadata": {
    "collapsed": true
   },
   "outputs": [],
   "source": [
    "all_num_pos = pd.concat([num_abc_pos, num_def_pos, num_ghi_pos, num_jkl_pos, num_mno_pos,num_pqr_pos, num_stu_pos, num_vwxyz_pos], axis=0)\n",
    "all_num_pos.to_csv(\"ALL_num_positives.csv\", sep='\\t', index= False )"
   ]
  },
  {
   "cell_type": "code",
   "execution_count": null,
   "metadata": {
    "collapsed": true
   },
   "outputs": [],
   "source": [
    "all_cat_pos = pd.concat([cat_abc_pos, cat_def_pos, cat_ghi_pos, cat_jkl_pos, cat_mno_pos,cat_pqr_pos, cat_stu_pos, cat_vwxyz_pos], axis=0)\n",
    "all_cat_pos.to_csv(\"ALL_cat_positives.csv\", sep='\\t', index= False )"
   ]
  },
  {
   "cell_type": "code",
   "execution_count": null,
   "metadata": {
    "collapsed": true
   },
   "outputs": [],
   "source": [
    "all_dat_pos = pd.concat([dat_abc_pos, dat_def_pos, dat_ghi_pos, dat_jkl_pos, dat_mno_pos,dat_pqr_pos, dat_stu_pos, dat_vwxyz_pos], axis=0)\n",
    "all_dat_pos.to_csv(\"ALL_dat_positives.csv\", sep='\\t', index= False )"
   ]
  }
 ],
 "metadata": {
  "kernelspec": {
   "display_name": "Python 2",
   "language": "python",
   "name": "python2"
  },
  "language_info": {
   "codemirror_mode": {
    "name": "ipython",
    "version": 2
   },
   "file_extension": ".py",
   "mimetype": "text/x-python",
   "name": "python",
   "nbconvert_exporter": "python",
   "pygments_lexer": "ipython2",
   "version": "2.7.13"
  }
 },
 "nbformat": 4,
 "nbformat_minor": 0
}
