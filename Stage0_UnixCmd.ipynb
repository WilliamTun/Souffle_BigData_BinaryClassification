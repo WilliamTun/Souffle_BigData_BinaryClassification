{
 "cells": [
  {
   "cell_type": "markdown",
   "metadata": {},
   "source": [
    "# Problem 1: Large dataset needs to be broken down into smaller chunks\n",
    "- unix commandline command \"split\" used to split the data into smaller chunks \n",
    "- Too many chunks created, so files needed to be concatenated again. \n",
    "- Python code used to print necessary commands \n",
    "- This was done for numeric, categorical and date datasets"
   ]
  },
  {
   "cell_type": "code",
   "execution_count": 2,
   "metadata": {
    "collapsed": false
   },
   "outputs": [
    {
     "name": "stdout",
     "output_type": "stream",
     "text": [
      "cat xaa xab xac xad xae xaf xag xah xai xaj xak xal xam xan xao xap xaq xar xas xat xau xav xaw xax xay xaz > xa\n",
      "cat xba xbb xbc xbd xbe xbf xbg xbh xbi xbj xbk xbl xbm xbn xbo xbp xbq xbr xbs xbt xbu xbv xbw xbx xby xbz > xb\n",
      "cat xca xcb xcc xcd xce xcf xcg xch xci xcj xck xcl xcm xcn xco xcp xcq xcr xcs xct xcu xcv xcw xcx xcy xcz > xc\n",
      "cat xda xdb xdc xdd xde xdf xdg xdh xdi xdj xdk xdl xdm xdn xdo xdp xdq xdr xds xdt xdu xdv xdw xdx xdy xdz > xd\n",
      "cat xea xeb xec xed xee xef xeg xeh xei xej xek xel xem xen xeo xep xeq xer xes xet xeu xev xew xex xey xez > xe\n",
      "cat xfa xfb xfc xfd xfe xff xfg xfh xfi xfj xfk xfl xfm xfn xfo xfp xfq xfr xfs xft xfu xfv xfw xfx xfy xfz > xf\n",
      "cat xga xgb xgc xgd xge xgf xgg xgh xgi xgj xgk xgl xgm xgn xgo xgp xgq xgr xgs xgt xgu xgv xgw xgx xgy xgz > xg\n",
      "cat xha xhb xhc xhd xhe xhf xhg xhh xhi xhj xhk xhl xhm xhn xho xhp xhq xhr xhs xht xhu xhv xhw xhx xhy xhz > xh\n",
      "cat xia xib xic xid xie xif xig xih xii xij xik xil xim xin xio xip xiq xir xis xit xiu xiv xiw xix xiy xiz > xi\n",
      "cat xja xjb xjc xjd xje xjf xjg xjh xji xjj xjk xjl xjm xjn xjo xjp xjq xjr xjs xjt xju xjv xjw xjx xjy xjz > xj\n",
      "cat xka xkb xkc xkd xke xkf xkg xkh xki xkj xkk xkl xkm xkn xko xkp xkq xkr xks xkt xku xkv xkw xkx xky xkz > xk\n",
      "cat xla xlb xlc xld xle xlf xlg xlh xli xlj xlk xll xlm xln xlo xlp xlq xlr xls xlt xlu xlv xlw xlx xly xlz > xl\n",
      "cat xma xmb xmc xmd xme xmf xmg xmh xmi xmj xmk xml xmm xmn xmo xmp xmq xmr xms xmt xmu xmv xmw xmx xmy xmz > xm\n",
      "cat xna xnb xnc xnd xne xnf xng xnh xni xnj xnk xnl xnm xnn xno xnp xnq xnr xns xnt xnu xnv xnw xnx xny xnz > xn\n",
      "cat xoa xob xoc xod xoe xof xog xoh xoi xoj xok xol xom xon xoo xop xoq xor xos xot xou xov xow xox xoy xoz > xo\n",
      "cat xpa xpb xpc xpd xpe xpf xpg xph xpi xpj xpk xpl xpm xpn xpo xpp xpq xpr xps xpt xpu xpv xpw xpx xpy xpz > xp\n",
      "cat xqa xqb xqc xqd xqe xqf xqg xqh xqi xqj xqk xql xqm xqn xqo xqp xqq xqr xqs xqt xqu xqv xqw xqx xqy xqz > xq\n",
      "cat xra xrb xrc xrd xre xrf xrg xrh xri xrj xrk xrl xrm xrn xro xrp xrq xrr xrs xrt xru xrv xrw xrx xry xrz > xr\n",
      "cat xsa xsb xsc xsd xse xsf xsg xsh xsi xsj xsk xsl xsm xsn xso xsp xsq xsr xss xst xsu xsv xsw xsx xsy xsz > xs\n",
      "cat xta xtb xtc xtd xte xtf xtg xth xti xtj xtk xtl xtm xtn xto xtp xtq xtr xts xtt xtu xtv xtw xtx xty xtz > xt\n",
      "cat xua xub xuc xud xue xuf xug xuh xui xuj xuk xul xum xun xuo xup xuq xur xus xut xuu xuv xuw xux xuy xuz > xu\n",
      "cat xva xvb xvc xvd xve xvf xvg xvh xvi xvj xvk xvl xvm xvn xvo xvp xvq xvr xvs xvt xvu xvv xvw xvx xvy xvz > xv\n",
      "cat xwa xwb xwc xwd xwe xwf xwg xwh xwi xwj xwk xwl xwm xwn xwo xwp xwq xwr xws xwt xwu xwv xww xwx xwy xwz > xw\n",
      "cat xxa xxb xxc xxd xxe xxf xxg xxh xxi xxj xxk xxl xxm xxn xxo xxp xxq xxr xxs xxt xxu xxv xxw xxx xxy xxz > xx\n",
      "cat xya xyb xyc xyd xye xyf xyg xyh xyi xyj xyk xyl xym xyn xyo xyp xyq xyr xys xyt xyu xyv xyw xyx xyy xyz > xy\n",
      "cat xza xzb xzc xzd xze xzf xzg xzh xzi xzj xzk xzl xzm xzn xzo xzp xzq xzr xzs xzt xzu xzv xzw xzx xzy xzz > xz\n"
     ]
    }
   ],
   "source": [
    "stringList = [\"a\", \"b\", \"c\", \"d\", \"e\", \"f\", \"g\", \"h\", \"i\", \"j\", \"k\", \"l\", \"m\", \"n\", \"o\", \"p\", \"q\", \"r\", \"s\", \"t\",\n",
    "     \"u\", \"v\", \"w\", \"x\", \"y\", \"z\"]\n",
    "for s in stringList:\n",
    "    print (\"cat x\"+s+\"a \" + \"x\" +s+\"b \" + \"x\"+s+\"c \"\n",
    "      + \"x\"+s+\"d \" + \"x\"+s+\"e \" + \"x\"+s+\"f \"\n",
    "      + \"x\"+s+\"g \" + \"x\"+s+\"h \" + \"x\"+s+\"i \"\n",
    "      + \"x\"+s+\"j \" +  \"x\"+s+\"k \" + \"x\"+s+\"l \"\n",
    "      + \"x\"+s+\"m \" + \"x\"+s+\"n \" + \"x\"+s+\"o \"\n",
    "      + \"x\"+s+\"p \" + \"x\"+s+\"q \" + \"x\"+s+\"r \"\n",
    "      + \"x\"+s+\"s \" + \"x\"+s+\"t \" + \"x\"+s+\"u \"\n",
    "      + \"x\"+s+\"v \" + \"x\"+s+\"w \" + \"x\"+s+\"x \"\n",
    "      + \"x\"+s+\"y \" + \"x\"+s+\"z \" \">\" \" x\"+s)\n"
   ]
  },
  {
   "cell_type": "code",
   "execution_count": 4,
   "metadata": {
    "collapsed": false
   },
   "outputs": [
    {
     "name": "stdout",
     "output_type": "stream",
     "text": [
      "rm xaa xab xac xad xae xaf xag xah xai xaj xak xal xam xan xao xap xaq xar xas xat xau xav xaw xax xay xaz \n",
      "rm xba xbb xbc xbd xbe xbf xbg xbh xbi xbj xbk xbl xbm xbn xbo xbp xbq xbr xbs xbt xbu xbv xbw xbx xby xbz \n",
      "rm xca xcb xcc xcd xce xcf xcg xch xci xcj xck xcl xcm xcn xco xcp xcq xcr xcs xct xcu xcv xcw xcx xcy xcz \n",
      "rm xda xdb xdc xdd xde xdf xdg xdh xdi xdj xdk xdl xdm xdn xdo xdp xdq xdr xds xdt xdu xdv xdw xdx xdy xdz \n",
      "rm xea xeb xec xed xee xef xeg xeh xei xej xek xel xem xen xeo xep xeq xer xes xet xeu xev xew xex xey xez \n",
      "rm xfa xfb xfc xfd xfe xff xfg xfh xfi xfj xfk xfl xfm xfn xfo xfp xfq xfr xfs xft xfu xfv xfw xfx xfy xfz \n",
      "rm xga xgb xgc xgd xge xgf xgg xgh xgi xgj xgk xgl xgm xgn xgo xgp xgq xgr xgs xgt xgu xgv xgw xgx xgy xgz \n",
      "rm xha xhb xhc xhd xhe xhf xhg xhh xhi xhj xhk xhl xhm xhn xho xhp xhq xhr xhs xht xhu xhv xhw xhx xhy xhz \n",
      "rm xia xib xic xid xie xif xig xih xii xij xik xil xim xin xio xip xiq xir xis xit xiu xiv xiw xix xiy xiz \n",
      "rm xja xjb xjc xjd xje xjf xjg xjh xji xjj xjk xjl xjm xjn xjo xjp xjq xjr xjs xjt xju xjv xjw xjx xjy xjz \n",
      "rm xka xkb xkc xkd xke xkf xkg xkh xki xkj xkk xkl xkm xkn xko xkp xkq xkr xks xkt xku xkv xkw xkx xky xkz \n",
      "rm xla xlb xlc xld xle xlf xlg xlh xli xlj xlk xll xlm xln xlo xlp xlq xlr xls xlt xlu xlv xlw xlx xly xlz \n",
      "rm xma xmb xmc xmd xme xmf xmg xmh xmi xmj xmk xml xmm xmn xmo xmp xmq xmr xms xmt xmu xmv xmw xmx xmy xmz \n",
      "rm xna xnb xnc xnd xne xnf xng xnh xni xnj xnk xnl xnm xnn xno xnp xnq xnr xns xnt xnu xnv xnw xnx xny xnz \n",
      "rm xoa xob xoc xod xoe xof xog xoh xoi xoj xok xol xom xon xoo xop xoq xor xos xot xou xov xow xox xoy xoz \n",
      "rm xpa xpb xpc xpd xpe xpf xpg xph xpi xpj xpk xpl xpm xpn xpo xpp xpq xpr xps xpt xpu xpv xpw xpx xpy xpz \n",
      "rm xqa xqb xqc xqd xqe xqf xqg xqh xqi xqj xqk xql xqm xqn xqo xqp xqq xqr xqs xqt xqu xqv xqw xqx xqy xqz \n",
      "rm xra xrb xrc xrd xre xrf xrg xrh xri xrj xrk xrl xrm xrn xro xrp xrq xrr xrs xrt xru xrv xrw xrx xry xrz \n",
      "rm xsa xsb xsc xsd xse xsf xsg xsh xsi xsj xsk xsl xsm xsn xso xsp xsq xsr xss xst xsu xsv xsw xsx xsy xsz \n",
      "rm xta xtb xtc xtd xte xtf xtg xth xti xtj xtk xtl xtm xtn xto xtp xtq xtr xts xtt xtu xtv xtw xtx xty xtz \n",
      "rm xua xub xuc xud xue xuf xug xuh xui xuj xuk xul xum xun xuo xup xuq xur xus xut xuu xuv xuw xux xuy xuz \n",
      "rm xva xvb xvc xvd xve xvf xvg xvh xvi xvj xvk xvl xvm xvn xvo xvp xvq xvr xvs xvt xvu xvv xvw xvx xvy xvz \n",
      "rm xwa xwb xwc xwd xwe xwf xwg xwh xwi xwj xwk xwl xwm xwn xwo xwp xwq xwr xws xwt xwu xwv xww xwx xwy xwz \n",
      "rm xxa xxb xxc xxd xxe xxf xxg xxh xxi xxj xxk xxl xxm xxn xxo xxp xxq xxr xxs xxt xxu xxv xxw xxx xxy xxz \n",
      "rm xya xyb xyc xyd xye xyf xyg xyh xyi xyj xyk xyl xym xyn xyo xyp xyq xyr xys xyt xyu xyv xyw xyx xyy xyz \n",
      "rm xza xzb xzc xzd xze xzf xzg xzh xzi xzj xzk xzl xzm xzn xzo xzp xzq xzr xzs xzt xzu xzv xzw xzx xzy xzz \n"
     ]
    }
   ],
   "source": [
    "for s in stringList:\n",
    "    print (\"rm x\"+s+\"a \" + \"x\" +s+\"b \" + \"x\"+s+\"c \"\n",
    "      + \"x\"+s+\"d \" + \"x\"+s+\"e \" + \"x\"+s+\"f \"\n",
    "      + \"x\"+s+\"g \" + \"x\"+s+\"h \" + \"x\"+s+\"i \"\n",
    "      + \"x\"+s+\"j \" +  \"x\"+s+\"k \" + \"x\"+s+\"l \"\n",
    "      + \"x\"+s+\"m \" + \"x\"+s+\"n \" + \"x\"+s+\"o \"\n",
    "      + \"x\"+s+\"p \" + \"x\"+s+\"q \" + \"x\"+s+\"r \"\n",
    "      + \"x\"+s+\"s \" + \"x\"+s+\"t \" + \"x\"+s+\"u \"\n",
    "      + \"x\"+s+\"v \" + \"x\"+s+\"w \" + \"x\"+s+\"x \"\n",
    "      + \"x\"+s+\"y \" + \"x\"+s+\"z \")"
   ]
  },
  {
   "cell_type": "markdown",
   "metadata": {},
   "source": [
    "cat xa xb xc > xabc <br>\n",
    "cat xd xe xf > xdef <br>\n",
    "cat xg xh xi > xghi <br>\n",
    "cat xj xk xl > xjkl <br>\n",
    "cat xm xn xo > xmno <br>\n",
    "cat xp xq xr > xpqr <br>\n",
    "cat xs xt xu > xstu <br>\n",
    "cat xv xw xx xy xz > xvwxyz <br>"
   ]
  },
  {
   "cell_type": "code",
   "execution_count": 6,
   "metadata": {
    "collapsed": false
   },
   "outputs": [
    {
     "name": "stdout",
     "output_type": "stream",
     "text": [
      "rm xa\n",
      "rm xb\n",
      "rm xc\n",
      "rm xd\n",
      "rm xe\n",
      "rm xf\n",
      "rm xg\n",
      "rm xh\n",
      "rm xi\n",
      "rm xj\n",
      "rm xk\n",
      "rm xl\n",
      "rm xm\n",
      "rm xn\n",
      "rm xo\n",
      "rm xp\n",
      "rm xq\n",
      "rm xr\n",
      "rm xs\n",
      "rm xt\n",
      "rm xu\n",
      "rm xv\n",
      "rm xw\n",
      "rm xx\n",
      "rm xy\n",
      "rm xz\n"
     ]
    }
   ],
   "source": [
    "for s in stringList:\n",
    "    print (\"rm x\"+s)\n"
   ]
  }
 ],
 "metadata": {
  "kernelspec": {
   "display_name": "Python 2",
   "language": "python",
   "name": "python2"
  },
  "language_info": {
   "codemirror_mode": {
    "name": "ipython",
    "version": 2
   },
   "file_extension": ".py",
   "mimetype": "text/x-python",
   "name": "python",
   "nbconvert_exporter": "python",
   "pygments_lexer": "ipython2",
   "version": "2.7.13"
  }
 },
 "nbformat": 4,
 "nbformat_minor": 0
}
